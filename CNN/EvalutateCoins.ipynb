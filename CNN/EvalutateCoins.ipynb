{
  "nbformat": 4,
  "nbformat_minor": 0,
  "metadata": {
    "colab": {
      "name": "EvalutateCoins.ipynb",
      "provenance": [],
      "collapsed_sections": []
    },
    "kernelspec": {
      "name": "python3",
      "display_name": "Python 3"
    }
  },
  "cells": [
    {
      "cell_type": "code",
      "metadata": {
        "id": "F-6240-hNJfC",
        "colab_type": "code",
        "colab": {
          "base_uri": "https://localhost:8080/",
          "height": 136
        },
        "outputId": "8d3c1165-80b1-4cab-f927-ee663f1bbbba"
      },
      "source": [
        "!pip install torch==1.4.0 torchvision==0.5.0\n",
        "import os\n",
        "import sys\n",
        "import torch\n",
        "import zipfile\n",
        "from google.colab import drive\n",
        "import matplotlib.pyplot as plt\n",
        "\n",
        "batch_size = 32\n",
        "outp_size = [224,224]\n",
        "load_prev_weights = True\n",
        "cuda = torch.cuda.is_available()\n",
        "\n",
        "# Paths\n",
        "drive.mount('/content/drive/')\n",
        "\n",
        "drive.mount('/content/drive/')\n",
        "\n",
        "Train_ann_path = '/home/my_coin_database/Annotations/training.csv'\n",
        "Train_img_path = '/home/my_coin_database/Images/training/'\n",
        "\n",
        "Valid_ann_path = '/home/my_coin_database/Annotations/validation.csv'\n",
        "Valid_img_path = '/home/my_coin_database/Images/validation/'\n",
        "\n",
        "state_dict_path = '/content/drive/My Drive/Colab Notebooks/Coin_CNN/my_modelABA.pth'"
      ],
      "execution_count": 5,
      "outputs": [
        {
          "output_type": "stream",
          "text": [
            "Requirement already satisfied: torch==1.4.0 in /usr/local/lib/python3.6/dist-packages (1.4.0)\n",
            "Requirement already satisfied: torchvision==0.5.0 in /usr/local/lib/python3.6/dist-packages (0.5.0)\n",
            "Requirement already satisfied: numpy in /usr/local/lib/python3.6/dist-packages (from torchvision==0.5.0) (1.18.5)\n",
            "Requirement already satisfied: six in /usr/local/lib/python3.6/dist-packages (from torchvision==0.5.0) (1.12.0)\n",
            "Requirement already satisfied: pillow>=4.1.1 in /usr/local/lib/python3.6/dist-packages (from torchvision==0.5.0) (7.0.0)\n",
            "Drive already mounted at /content/drive/; to attempt to forcibly remount, call drive.mount(\"/content/drive/\", force_remount=True).\n",
            "Drive already mounted at /content/drive/; to attempt to forcibly remount, call drive.mount(\"/content/drive/\", force_remount=True).\n"
          ],
          "name": "stdout"
        }
      ]
    },
    {
      "cell_type": "code",
      "metadata": {
        "id": "4RP7PEtdNcoI",
        "colab_type": "code",
        "colab": {}
      },
      "source": [
        "try:\n",
        "  os.listdir('/home/Coin_Dataset/Images/training')\n",
        "except:\n",
        "  zip_ref = zipfile.ZipFile('/content/drive/My Drive/Colab Notebooks/Datasets/my_coin_database.zip')\n",
        "  zip_ref.extractall('/home')\n",
        "  zip_ref.close()\n",
        "\n",
        "sys.path.append('/content/drive/My Drive/Colab Notebooks/Coin_CNN/')\n",
        "sys.path.append('/content/drive/My Drive/Colab Notebooks/lib/')\n",
        "\n",
        "import my_statistics\n",
        "import MobileNetV2\n",
        "import Dataset\n"
      ],
      "execution_count": 2,
      "outputs": []
    },
    {
      "cell_type": "code",
      "metadata": {
        "id": "NFDww_HbNd8-",
        "colab_type": "code",
        "colab": {
          "base_uri": "https://localhost:8080/",
          "height": 170
        },
        "outputId": "5ed3eda3-23e9-49ed-f37d-644dc9caa952"
      },
      "source": [
        "if __name__ == '__main__':\n",
        "    train_dataset = Dataset.Make(Train_img_path, Train_ann_path, output_size=outp_size)\n",
        "    valid_dataset = Dataset.Make(Valid_img_path, Valid_ann_path, output_size=outp_size)\n",
        "    train_dataloader = torch.utils.data.DataLoader(train_dataset,batch_size=batch_size,shuffle=True, num_workers=3)\n",
        "    valid_dataloader = torch.utils.data.DataLoader(valid_dataset,batch_size=batch_size,shuffle=False,num_workers=1)\n",
        "\n",
        "    dataloader_choice = valid_dataloader\n",
        "\n",
        "    #model = MobileNet.Make()\n",
        "    model = MobileNetV2.Make(N_classes=5,pretrained=True)\n",
        "    if load_prev_weights:\n",
        "        try:\n",
        "            model.load_state_dict(torch.load(state_dict_path))\n",
        "            print('Weights loaded successfuly!')\n",
        "        except:\n",
        "            print('Weights not loaded!')\n",
        "            raise AssertionError\n",
        "    if cuda: model = model.cuda()\n",
        "    model.eval()\n",
        "\n",
        "    Tv = [] # True Coin Value\n",
        "    Mv = [] # Predicted Coin Value\n",
        "\n",
        "    with torch.no_grad():\n",
        "        for i,data in enumerate(dataloader_choice,0):\n",
        "          images = data['image']\n",
        "          targets= data['value']\n",
        "          if cuda:\n",
        "              images = images.cuda()\n",
        "              targets= targets.cuda()\n",
        "          outputs= [torch.argmax(item) for item in model(images)]\n",
        "\n",
        "          Tv.extend(targets)\n",
        "          Mv.extend(outputs)\n",
        "\n",
        "          print('\\r',end='')\n",
        "          print(f'Progress: {(i/(len(dataloader_choice)-1))*100:.2f} %',end='')\n",
        "\n",
        "    confusion_matrix = my_statistics.confusion_matrix(Mv,Tv,n_classes=5)\n",
        "    precision,recall = my_statistics.precision_recall(confusion_matrix )\n",
        "\n",
        "    print('\\r',end='')\n",
        "    print(f'Precision: {precision[0]:.2f}, {precision[1]:.2f}, {precision[2]:.2f}, {precision[3]:.2f}, {precision[4]:.2f} ')\n",
        "    print(f'Recall: {recall[0]:.2f}, {recall[1]:.2f}, {recall[2]:.2f}, {recall[3]:.2f}, {recall[4]:.2f}')\n",
        "    print('Confusion Matrix:')\n",
        "    print(confusion_matrix.numpy())"
      ],
      "execution_count": 10,
      "outputs": [
        {
          "output_type": "stream",
          "text": [
            "Weights loaded successfuly!\n",
            "Precision: 0.98, 0.95, 0.97, 0.98, 1.00 \n",
            "Recall: 0.98, 0.97, 0.98, 0.97, 0.98\n",
            "Confusion Matrix:\n",
            "[[49.  0.  1.  0.  0.]\n",
            " [ 1. 58.  0.  1.  0.]\n",
            " [ 0.  1. 65.  0.  0.]\n",
            " [ 0.  2.  0. 63.  0.]\n",
            " [ 0.  0.  1.  0. 58.]]\n"
          ],
          "name": "stdout"
        }
      ]
    },
    {
      "cell_type": "code",
      "metadata": {
        "id": "GovgShh7bBNU",
        "colab_type": "code",
        "colab": {}
      },
      "source": [
        "input_tensor = torch.rand(1,3,224,224)\n",
        "\n",
        "script_model = torch.jit.trace(model.cpu(),input_tensor)\n",
        "script_model.save(state_dict_path+'.pt')"
      ],
      "execution_count": 11,
      "outputs": []
    }
  ]
}