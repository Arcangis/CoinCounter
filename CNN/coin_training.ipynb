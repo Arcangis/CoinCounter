{
  "nbformat": 4,
  "nbformat_minor": 0,
  "metadata": {
    "colab": {
      "name": "coin_training.ipynb",
      "provenance": [],
      "collapsed_sections": []
    },
    "kernelspec": {
      "name": "python3",
      "display_name": "Python 3"
    }
  },
  "cells": [
    {
      "cell_type": "code",
      "metadata": {
        "id": "PFOQVqTxPSDX",
        "colab_type": "code",
        "colab": {
          "base_uri": "https://localhost:8080/",
          "height": 34
        },
        "outputId": "d99089ef-fecf-42e4-d602-77c0c6c76789"
      },
      "source": [
        "import os\n",
        "import sys\n",
        "import torch\n",
        "import zipfile\n",
        "from google.colab import drive\n",
        "import matplotlib.pyplot as plt\n",
        "\n",
        "batch_size = 5\n",
        "max_epochs = 400\n",
        "learning_rate = 0.01\n",
        "outp_size = [224,224]\n",
        "load_prev_weights = True\n",
        "cuda = torch.cuda.is_available()\n",
        "\n",
        "# Paths\n",
        "drive.mount('/content/drive/')\n",
        "\n",
        "Train_ann_path = '/home/Coin_Dataset/Annotations/training.csv'\n",
        "Train_img_path = '/home/Coin_Dataset/Images/training/'\n",
        "\n",
        "Valid_ann_path = '/home/Coin_Dataset/Annotations/validation.csv'\n",
        "Valid_img_path = '/home/Coin_Dataset/Images/validation/'\n",
        "\n",
        "model_save_location = '/content/drive/My Drive/Colab Notebooks/Coin_CNN/my_model.pth'"
      ],
      "execution_count": 19,
      "outputs": [
        {
          "output_type": "stream",
          "text": [
            "Drive already mounted at /content/drive/; to attempt to forcibly remount, call drive.mount(\"/content/drive/\", force_remount=True).\n"
          ],
          "name": "stdout"
        }
      ]
    },
    {
      "cell_type": "code",
      "metadata": {
        "id": "S0TgzkgSE5jl",
        "colab_type": "code",
        "colab": {}
      },
      "source": [
        "try:\n",
        "  os.listdir('/home/Coin_Dataset/Images/training')\n",
        "except:\n",
        "  zip_ref = zipfile.ZipFile('/content/drive/My Drive/Colab Notebooks/Datasets/Coin_Dataset.zip')\n",
        "  zip_ref.extractall('/home')\n",
        "  zip_ref.close()\n",
        "\n",
        "sys.path.append('/content/drive/My Drive/Colab Notebooks/Coin_CNN/')\n",
        "\n",
        "import MobileNetV2\n",
        "import my_loss\n",
        "import Dataset"
      ],
      "execution_count": 20,
      "outputs": []
    },
    {
      "cell_type": "code",
      "metadata": {
        "id": "fCbhsNetRPPM",
        "colab_type": "code",
        "colab": {
          "base_uri": "https://localhost:8080/",
          "height": 68
        },
        "outputId": "bdb62943-dd83-44fb-8dde-6a66cdb46dee"
      },
      "source": [
        "if __name__ == '__main__':\n",
        "    train_dataset = Dataset.Make(Train_img_path, Train_ann_path, output_size=outp_size)\n",
        "    valid_dataset = Dataset.Make(Valid_img_path, Valid_ann_path, output_size=outp_size)\n",
        "    train_dataloader = torch.utils.data.DataLoader(train_dataset,batch_size=batch_size,shuffle=True, num_workers=3)\n",
        "    valid_dataloader = torch.utils.data.DataLoader(valid_dataset,batch_size=batch_size,shuffle=False,num_workers=1)\n",
        "\n",
        "    #model = MobileNet.Make()\n",
        "    model = MobileNetV2.Make(N_classes=5,pretrained=True)\n",
        "    if load_prev_weights:\n",
        "        try:\n",
        "            model.load_state_dict(torch.load(model_save_location))\n",
        "            print('Weights loaded successfuly!')\n",
        "        except:\n",
        "            print('Weights not loaded!')\n",
        "            raise AssertionError\n",
        "    if cuda: model = model.cuda()\n",
        "    My_loss = my_loss.Make(Type='MSE',cuda=cuda)\n",
        "\n",
        "    optimizer = torch.optim.SGD(model.parameters(),lr=learning_rate)\n",
        "\n",
        "    for epoch in range(max_epochs):\n",
        "        epoch_train_loss = 0\n",
        "        epoch_valid_loss = 0\n",
        "\n",
        "        model.train()\n",
        "        for data in train_dataloader:\n",
        "            optimizer.zero_grad()\n",
        "            \n",
        "            images = data['image']\n",
        "            targets = data['value'].long()\n",
        "            if cuda:\n",
        "                images = images.cuda()\n",
        "                targets= targets.cuda()\n",
        "\n",
        "            outputs= model(images)\n",
        "\n",
        "            loss = My_loss.compute(targets,outputs)\n",
        "            \n",
        "            loss.backward()\n",
        "            optimizer.step()\n",
        "            epoch_train_loss += loss\n",
        "\n",
        "        model.eval()\n",
        "        with torch.no_grad():\n",
        "            for data in valid_dataloader:\n",
        "                images = data['image']\n",
        "                targets = data['value'].long()\n",
        "                if cuda:\n",
        "                    images = images.cuda()\n",
        "                    targets= targets.cuda()\n",
        "\n",
        "                outputs= model(images)\n",
        "                epoch_valid_loss += My_loss.compute(targets,outputs)\n",
        "\n",
        "        epoch_train_loss /= len(train_dataloader)\n",
        "        epoch_valid_loss /= len(valid_dataloader)\n",
        "\n",
        "        torch.save(model.state_dict(), model_save_location)\n",
        "        print(f'Epoch: {epoch+1}/{max_epochs} | Training Loss: {epoch_train_loss:.4f} | Validation Loss: {epoch_valid_loss:.4f}')"
      ],
      "execution_count": null,
      "outputs": [
        {
          "output_type": "stream",
          "text": [
            "Weights loaded successfuly!\n",
            "Epoch: 1/400 | Training Loss: 0.0255 | Validation Loss: 0.0067\n",
            "Epoch: 2/400 | Training Loss: 0.0212 | Validation Loss: 0.0069\n"
          ],
          "name": "stdout"
        }
      ]
    },
    {
      "cell_type": "code",
      "metadata": {
        "id": "eighmCNIftYq",
        "colab_type": "code",
        "colab": {
          "base_uri": "https://localhost:8080/",
          "height": 34
        },
        "outputId": "e4657e8b-ff8f-4760-a7fd-cf603b584fce"
      },
      "source": [
        "import os\n",
        "print(os.listdir('/home'))"
      ],
      "execution_count": 8,
      "outputs": [
        {
          "output_type": "stream",
          "text": [
            "['coins_data2']\n"
          ],
          "name": "stdout"
        }
      ]
    }
  ]
}