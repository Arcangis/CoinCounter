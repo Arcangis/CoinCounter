{
  "nbformat": 4,
  "nbformat_minor": 0,
  "metadata": {
    "colab": {
      "name": "coin_training.ipynb",
      "provenance": [],
      "collapsed_sections": []
    },
    "kernelspec": {
      "name": "python3",
      "display_name": "Python 3"
    },
    "widgets": {
      "application/vnd.jupyter.widget-state+json": {
        "63aa862988d348168a188e3b1d198315": {
          "model_module": "@jupyter-widgets/controls",
          "model_name": "HBoxModel",
          "state": {
            "_view_name": "HBoxView",
            "_dom_classes": [],
            "_model_name": "HBoxModel",
            "_view_module": "@jupyter-widgets/controls",
            "_model_module_version": "1.5.0",
            "_view_count": null,
            "_view_module_version": "1.5.0",
            "box_style": "",
            "layout": "IPY_MODEL_50dd532487bb43e19ed17aedf5ba24b1",
            "_model_module": "@jupyter-widgets/controls",
            "children": [
              "IPY_MODEL_a68fcbda37004efb9934e40f36d7fd9f",
              "IPY_MODEL_859c11e1a5d04cd2bfa0ac37b7550a23"
            ]
          }
        },
        "50dd532487bb43e19ed17aedf5ba24b1": {
          "model_module": "@jupyter-widgets/base",
          "model_name": "LayoutModel",
          "state": {
            "_view_name": "LayoutView",
            "grid_template_rows": null,
            "right": null,
            "justify_content": null,
            "_view_module": "@jupyter-widgets/base",
            "overflow": null,
            "_model_module_version": "1.2.0",
            "_view_count": null,
            "flex_flow": null,
            "width": null,
            "min_width": null,
            "border": null,
            "align_items": null,
            "bottom": null,
            "_model_module": "@jupyter-widgets/base",
            "top": null,
            "grid_column": null,
            "overflow_y": null,
            "overflow_x": null,
            "grid_auto_flow": null,
            "grid_area": null,
            "grid_template_columns": null,
            "flex": null,
            "_model_name": "LayoutModel",
            "justify_items": null,
            "grid_row": null,
            "max_height": null,
            "align_content": null,
            "visibility": null,
            "align_self": null,
            "height": null,
            "min_height": null,
            "padding": null,
            "grid_auto_rows": null,
            "grid_gap": null,
            "max_width": null,
            "order": null,
            "_view_module_version": "1.2.0",
            "grid_template_areas": null,
            "object_position": null,
            "object_fit": null,
            "grid_auto_columns": null,
            "margin": null,
            "display": null,
            "left": null
          }
        },
        "a68fcbda37004efb9934e40f36d7fd9f": {
          "model_module": "@jupyter-widgets/controls",
          "model_name": "FloatProgressModel",
          "state": {
            "_view_name": "ProgressView",
            "style": "IPY_MODEL_648825477a35421bbf40b4b4aabf9212",
            "_dom_classes": [],
            "description": "100%",
            "_model_name": "FloatProgressModel",
            "bar_style": "success",
            "max": 14212972,
            "_view_module": "@jupyter-widgets/controls",
            "_model_module_version": "1.5.0",
            "value": 14212972,
            "_view_count": null,
            "_view_module_version": "1.5.0",
            "orientation": "horizontal",
            "min": 0,
            "description_tooltip": null,
            "_model_module": "@jupyter-widgets/controls",
            "layout": "IPY_MODEL_1c89f1e5561a4425bfb0d903cf1dcb5f"
          }
        },
        "859c11e1a5d04cd2bfa0ac37b7550a23": {
          "model_module": "@jupyter-widgets/controls",
          "model_name": "HTMLModel",
          "state": {
            "_view_name": "HTMLView",
            "style": "IPY_MODEL_9f149222a54a4614a474986b8900bde4",
            "_dom_classes": [],
            "description": "",
            "_model_name": "HTMLModel",
            "placeholder": "​",
            "_view_module": "@jupyter-widgets/controls",
            "_model_module_version": "1.5.0",
            "value": " 13.6M/13.6M [00:02&lt;00:00, 7.08MB/s]",
            "_view_count": null,
            "_view_module_version": "1.5.0",
            "description_tooltip": null,
            "_model_module": "@jupyter-widgets/controls",
            "layout": "IPY_MODEL_59cbd781078a430584fef8d0a29c6164"
          }
        },
        "648825477a35421bbf40b4b4aabf9212": {
          "model_module": "@jupyter-widgets/controls",
          "model_name": "ProgressStyleModel",
          "state": {
            "_view_name": "StyleView",
            "_model_name": "ProgressStyleModel",
            "description_width": "initial",
            "_view_module": "@jupyter-widgets/base",
            "_model_module_version": "1.5.0",
            "_view_count": null,
            "_view_module_version": "1.2.0",
            "bar_color": null,
            "_model_module": "@jupyter-widgets/controls"
          }
        },
        "1c89f1e5561a4425bfb0d903cf1dcb5f": {
          "model_module": "@jupyter-widgets/base",
          "model_name": "LayoutModel",
          "state": {
            "_view_name": "LayoutView",
            "grid_template_rows": null,
            "right": null,
            "justify_content": null,
            "_view_module": "@jupyter-widgets/base",
            "overflow": null,
            "_model_module_version": "1.2.0",
            "_view_count": null,
            "flex_flow": null,
            "width": null,
            "min_width": null,
            "border": null,
            "align_items": null,
            "bottom": null,
            "_model_module": "@jupyter-widgets/base",
            "top": null,
            "grid_column": null,
            "overflow_y": null,
            "overflow_x": null,
            "grid_auto_flow": null,
            "grid_area": null,
            "grid_template_columns": null,
            "flex": null,
            "_model_name": "LayoutModel",
            "justify_items": null,
            "grid_row": null,
            "max_height": null,
            "align_content": null,
            "visibility": null,
            "align_self": null,
            "height": null,
            "min_height": null,
            "padding": null,
            "grid_auto_rows": null,
            "grid_gap": null,
            "max_width": null,
            "order": null,
            "_view_module_version": "1.2.0",
            "grid_template_areas": null,
            "object_position": null,
            "object_fit": null,
            "grid_auto_columns": null,
            "margin": null,
            "display": null,
            "left": null
          }
        },
        "9f149222a54a4614a474986b8900bde4": {
          "model_module": "@jupyter-widgets/controls",
          "model_name": "DescriptionStyleModel",
          "state": {
            "_view_name": "StyleView",
            "_model_name": "DescriptionStyleModel",
            "description_width": "",
            "_view_module": "@jupyter-widgets/base",
            "_model_module_version": "1.5.0",
            "_view_count": null,
            "_view_module_version": "1.2.0",
            "_model_module": "@jupyter-widgets/controls"
          }
        },
        "59cbd781078a430584fef8d0a29c6164": {
          "model_module": "@jupyter-widgets/base",
          "model_name": "LayoutModel",
          "state": {
            "_view_name": "LayoutView",
            "grid_template_rows": null,
            "right": null,
            "justify_content": null,
            "_view_module": "@jupyter-widgets/base",
            "overflow": null,
            "_model_module_version": "1.2.0",
            "_view_count": null,
            "flex_flow": null,
            "width": null,
            "min_width": null,
            "border": null,
            "align_items": null,
            "bottom": null,
            "_model_module": "@jupyter-widgets/base",
            "top": null,
            "grid_column": null,
            "overflow_y": null,
            "overflow_x": null,
            "grid_auto_flow": null,
            "grid_area": null,
            "grid_template_columns": null,
            "flex": null,
            "_model_name": "LayoutModel",
            "justify_items": null,
            "grid_row": null,
            "max_height": null,
            "align_content": null,
            "visibility": null,
            "align_self": null,
            "height": null,
            "min_height": null,
            "padding": null,
            "grid_auto_rows": null,
            "grid_gap": null,
            "max_width": null,
            "order": null,
            "_view_module_version": "1.2.0",
            "grid_template_areas": null,
            "object_position": null,
            "object_fit": null,
            "grid_auto_columns": null,
            "margin": null,
            "display": null,
            "left": null
          }
        }
      }
    }
  },
  "cells": [
    {
      "cell_type": "code",
      "metadata": {
        "id": "PFOQVqTxPSDX",
        "colab_type": "code",
        "colab": {
          "base_uri": "https://localhost:8080/",
          "height": 34
        },
        "outputId": "7dbc6190-04b9-4c64-d8fb-c033c1d819b2"
      },
      "source": [
        "import os\n",
        "import sys\n",
        "import torch\n",
        "import zipfile\n",
        "from google.colab import drive\n",
        "import matplotlib.pyplot as plt\n",
        "\n",
        "batch_size = 5\n",
        "max_epochs = 400\n",
        "learning_rate = 0.01\n",
        "outp_size = [224,224]\n",
        "load_prev_weights = False\n",
        "cuda = torch.cuda.is_available()\n",
        "\n",
        "# Paths\n",
        "drive.mount('/content/drive/')\n",
        "\n",
        "Train_ann_path = '/home/my_coin_database/Annotations/training.csv'\n",
        "Train_img_path = '/home/my_coin_database/Images/training/'\n",
        "\n",
        "Valid_ann_path = '/home/my_coin_database/Annotations/validation.csv'\n",
        "Valid_img_path = '/home/my_coin_database/Images/validation/'\n",
        "\n",
        "model_save_location = '/content/drive/My Drive/Colab Notebooks/Coin_CNN/my_modelABA.pth'"
      ],
      "execution_count": 1,
      "outputs": [
        {
          "output_type": "stream",
          "text": [
            "Drive already mounted at /content/drive/; to attempt to forcibly remount, call drive.mount(\"/content/drive/\", force_remount=True).\n"
          ],
          "name": "stdout"
        }
      ]
    },
    {
      "cell_type": "code",
      "metadata": {
        "id": "S0TgzkgSE5jl",
        "colab_type": "code",
        "colab": {}
      },
      "source": [
        "try:\n",
        "  os.listdir('/home/Coin_Dataset/Images/training')\n",
        "except:\n",
        "  zip_ref = zipfile.ZipFile('/content/drive/My Drive/Colab Notebooks/Datasets/my_coin_database.zip')\n",
        "  zip_ref.extractall('/home')\n",
        "  zip_ref.close()\n",
        "\n",
        "sys.path.append('/content/drive/My Drive/Colab Notebooks/Coin_CNN/')\n",
        "\n",
        "import MobileNetV2\n",
        "import my_loss\n",
        "import Dataset"
      ],
      "execution_count": 2,
      "outputs": []
    },
    {
      "cell_type": "code",
      "metadata": {
        "id": "fCbhsNetRPPM",
        "colab_type": "code",
        "colab": {
          "base_uri": "https://localhost:8080/",
          "height": 764,
          "referenced_widgets": [
            "63aa862988d348168a188e3b1d198315",
            "50dd532487bb43e19ed17aedf5ba24b1",
            "a68fcbda37004efb9934e40f36d7fd9f",
            "859c11e1a5d04cd2bfa0ac37b7550a23",
            "648825477a35421bbf40b4b4aabf9212",
            "1c89f1e5561a4425bfb0d903cf1dcb5f",
            "9f149222a54a4614a474986b8900bde4",
            "59cbd781078a430584fef8d0a29c6164"
          ]
        },
        "outputId": "0d1158c5-1d00-43da-e7b5-7b9c6481475b"
      },
      "source": [
        "if __name__ == '__main__':\n",
        "    train_dataset = Dataset.Make(Train_img_path, Train_ann_path, output_size=outp_size)\n",
        "    valid_dataset = Dataset.Make(Valid_img_path, Valid_ann_path, output_size=outp_size)\n",
        "    train_dataloader = torch.utils.data.DataLoader(train_dataset,batch_size=batch_size,shuffle=True, num_workers=3)\n",
        "    valid_dataloader = torch.utils.data.DataLoader(valid_dataset,batch_size=batch_size,shuffle=False,num_workers=1)\n",
        "\n",
        "    #model = MobileNet.Make()\n",
        "    model = MobileNetV2.Make(N_classes=5,pretrained=True)\n",
        "    if load_prev_weights:\n",
        "        try:\n",
        "            model.load_state_dict(torch.load(model_save_location))\n",
        "            print('Weights loaded successfuly!')\n",
        "        except:\n",
        "            print('Weights not loaded!')\n",
        "            raise AssertionError\n",
        "    if cuda: model = model.cuda()\n",
        "    My_loss = my_loss.Make(Type='MSE',cuda=cuda)\n",
        "\n",
        "    optimizer = torch.optim.SGD(model.parameters(),lr=learning_rate)\n",
        "\n",
        "    for epoch in range(max_epochs):\n",
        "        epoch_train_loss = 0\n",
        "        epoch_valid_loss = 0\n",
        "\n",
        "        model.train()\n",
        "        for data in train_dataloader:\n",
        "            optimizer.zero_grad()\n",
        "            \n",
        "            images = data['image']\n",
        "            targets = data['value'].long()\n",
        "            if cuda:\n",
        "                images = images.cuda()\n",
        "                targets= targets.cuda()\n",
        "\n",
        "            outputs= model(images)\n",
        "\n",
        "            loss = My_loss.compute(targets,outputs)\n",
        "            \n",
        "            loss.backward()\n",
        "            optimizer.step()\n",
        "            epoch_train_loss += loss\n",
        "\n",
        "        model.eval()\n",
        "        with torch.no_grad():\n",
        "            for data in valid_dataloader:\n",
        "                images = data['image']\n",
        "                targets = data['value'].long()\n",
        "                if cuda:\n",
        "                    images = images.cuda()\n",
        "                    targets= targets.cuda()\n",
        "\n",
        "                outputs= model(images)\n",
        "                epoch_valid_loss += My_loss.compute(targets,outputs)\n",
        "\n",
        "        epoch_train_loss /= len(train_dataloader)\n",
        "        epoch_valid_loss /= len(valid_dataloader)\n",
        "\n",
        "        torch.save(model.state_dict(), model_save_location)\n",
        "        print(f'Epoch: {epoch+1}/{max_epochs} | Training Loss: {epoch_train_loss:.4f} | Validation Loss: {epoch_valid_loss:.4f}')"
      ],
      "execution_count": 3,
      "outputs": [
        {
          "output_type": "stream",
          "text": [
            "Downloading: \"https://download.pytorch.org/models/mobilenet_v2-b0353104.pth\" to /root/.cache/torch/checkpoints/mobilenet_v2-b0353104.pth\n"
          ],
          "name": "stderr"
        },
        {
          "output_type": "display_data",
          "data": {
            "application/vnd.jupyter.widget-view+json": {
              "model_id": "63aa862988d348168a188e3b1d198315",
              "version_minor": 0,
              "version_major": 2
            },
            "text/plain": [
              "HBox(children=(FloatProgress(value=0.0, max=14212972.0), HTML(value='')))"
            ]
          },
          "metadata": {
            "tags": []
          }
        },
        {
          "output_type": "stream",
          "text": [
            "\n",
            "Epoch: 1/400 | Training Loss: 0.1062 | Validation Loss: 0.0510\n",
            "Epoch: 2/400 | Training Loss: 0.0625 | Validation Loss: 0.0389\n",
            "Epoch: 3/400 | Training Loss: 0.0492 | Validation Loss: 0.0276\n",
            "Epoch: 4/400 | Training Loss: 0.0416 | Validation Loss: 0.0255\n",
            "Epoch: 5/400 | Training Loss: 0.0357 | Validation Loss: 0.0162\n",
            "Epoch: 6/400 | Training Loss: 0.0312 | Validation Loss: 0.0147\n",
            "Epoch: 7/400 | Training Loss: 0.0283 | Validation Loss: 0.0142\n",
            "Epoch: 8/400 | Training Loss: 0.0266 | Validation Loss: 0.0138\n",
            "Epoch: 9/400 | Training Loss: 0.0240 | Validation Loss: 0.0136\n",
            "Epoch: 10/400 | Training Loss: 0.0252 | Validation Loss: 0.0108\n",
            "Epoch: 11/400 | Training Loss: 0.0206 | Validation Loss: 0.0124\n",
            "Epoch: 12/400 | Training Loss: 0.0161 | Validation Loss: 0.0129\n",
            "Epoch: 13/400 | Training Loss: 0.0190 | Validation Loss: 0.0073\n",
            "Epoch: 14/400 | Training Loss: 0.0179 | Validation Loss: 0.0119\n",
            "Epoch: 15/400 | Training Loss: 0.0170 | Validation Loss: 0.0083\n",
            "Epoch: 16/400 | Training Loss: 0.0168 | Validation Loss: 0.0107\n",
            "Epoch: 17/400 | Training Loss: 0.0162 | Validation Loss: 0.0095\n",
            "Epoch: 18/400 | Training Loss: 0.0185 | Validation Loss: 0.0087\n",
            "Epoch: 19/400 | Training Loss: 0.0154 | Validation Loss: 0.0098\n"
          ],
          "name": "stdout"
        },
        {
          "output_type": "error",
          "ename": "KeyboardInterrupt",
          "evalue": "ignored",
          "traceback": [
            "\u001b[0;31m---------------------------------------------------------------------------\u001b[0m",
            "\u001b[0;31mKeyboardInterrupt\u001b[0m                         Traceback (most recent call last)",
            "\u001b[0;32m<ipython-input-3-3bbc30f55ce6>\u001b[0m in \u001b[0;36m<module>\u001b[0;34m()\u001b[0m\n\u001b[1;32m     37\u001b[0m             \u001b[0mloss\u001b[0m \u001b[0;34m=\u001b[0m \u001b[0mMy_loss\u001b[0m\u001b[0;34m.\u001b[0m\u001b[0mcompute\u001b[0m\u001b[0;34m(\u001b[0m\u001b[0mtargets\u001b[0m\u001b[0;34m,\u001b[0m\u001b[0moutputs\u001b[0m\u001b[0;34m)\u001b[0m\u001b[0;34m\u001b[0m\u001b[0;34m\u001b[0m\u001b[0m\n\u001b[1;32m     38\u001b[0m \u001b[0;34m\u001b[0m\u001b[0m\n\u001b[0;32m---> 39\u001b[0;31m             \u001b[0mloss\u001b[0m\u001b[0;34m.\u001b[0m\u001b[0mbackward\u001b[0m\u001b[0;34m(\u001b[0m\u001b[0;34m)\u001b[0m\u001b[0;34m\u001b[0m\u001b[0;34m\u001b[0m\u001b[0m\n\u001b[0m\u001b[1;32m     40\u001b[0m             \u001b[0moptimizer\u001b[0m\u001b[0;34m.\u001b[0m\u001b[0mstep\u001b[0m\u001b[0;34m(\u001b[0m\u001b[0;34m)\u001b[0m\u001b[0;34m\u001b[0m\u001b[0;34m\u001b[0m\u001b[0m\n\u001b[1;32m     41\u001b[0m             \u001b[0mepoch_train_loss\u001b[0m \u001b[0;34m+=\u001b[0m \u001b[0mloss\u001b[0m\u001b[0;34m\u001b[0m\u001b[0;34m\u001b[0m\u001b[0m\n",
            "\u001b[0;32m/usr/local/lib/python3.6/dist-packages/torch/tensor.py\u001b[0m in \u001b[0;36mbackward\u001b[0;34m(self, gradient, retain_graph, create_graph)\u001b[0m\n\u001b[1;32m    196\u001b[0m                 \u001b[0mproducts\u001b[0m\u001b[0;34m.\u001b[0m \u001b[0mDefaults\u001b[0m \u001b[0mto\u001b[0m\u001b[0;31m \u001b[0m\u001b[0;31m`\u001b[0m\u001b[0;31m`\u001b[0m\u001b[0;32mFalse\u001b[0m\u001b[0;31m`\u001b[0m\u001b[0;31m`\u001b[0m\u001b[0;34m.\u001b[0m\u001b[0;34m\u001b[0m\u001b[0;34m\u001b[0m\u001b[0m\n\u001b[1;32m    197\u001b[0m         \"\"\"\n\u001b[0;32m--> 198\u001b[0;31m         \u001b[0mtorch\u001b[0m\u001b[0;34m.\u001b[0m\u001b[0mautograd\u001b[0m\u001b[0;34m.\u001b[0m\u001b[0mbackward\u001b[0m\u001b[0;34m(\u001b[0m\u001b[0mself\u001b[0m\u001b[0;34m,\u001b[0m \u001b[0mgradient\u001b[0m\u001b[0;34m,\u001b[0m \u001b[0mretain_graph\u001b[0m\u001b[0;34m,\u001b[0m \u001b[0mcreate_graph\u001b[0m\u001b[0;34m)\u001b[0m\u001b[0;34m\u001b[0m\u001b[0;34m\u001b[0m\u001b[0m\n\u001b[0m\u001b[1;32m    199\u001b[0m \u001b[0;34m\u001b[0m\u001b[0m\n\u001b[1;32m    200\u001b[0m     \u001b[0;32mdef\u001b[0m \u001b[0mregister_hook\u001b[0m\u001b[0;34m(\u001b[0m\u001b[0mself\u001b[0m\u001b[0;34m,\u001b[0m \u001b[0mhook\u001b[0m\u001b[0;34m)\u001b[0m\u001b[0;34m:\u001b[0m\u001b[0;34m\u001b[0m\u001b[0;34m\u001b[0m\u001b[0m\n",
            "\u001b[0;32m/usr/local/lib/python3.6/dist-packages/torch/autograd/__init__.py\u001b[0m in \u001b[0;36mbackward\u001b[0;34m(tensors, grad_tensors, retain_graph, create_graph, grad_variables)\u001b[0m\n\u001b[1;32m     98\u001b[0m     Variable._execution_engine.run_backward(\n\u001b[1;32m     99\u001b[0m         \u001b[0mtensors\u001b[0m\u001b[0;34m,\u001b[0m \u001b[0mgrad_tensors\u001b[0m\u001b[0;34m,\u001b[0m \u001b[0mretain_graph\u001b[0m\u001b[0;34m,\u001b[0m \u001b[0mcreate_graph\u001b[0m\u001b[0;34m,\u001b[0m\u001b[0;34m\u001b[0m\u001b[0;34m\u001b[0m\u001b[0m\n\u001b[0;32m--> 100\u001b[0;31m         allow_unreachable=True)  # allow_unreachable flag\n\u001b[0m\u001b[1;32m    101\u001b[0m \u001b[0;34m\u001b[0m\u001b[0m\n\u001b[1;32m    102\u001b[0m \u001b[0;34m\u001b[0m\u001b[0m\n",
            "\u001b[0;31mKeyboardInterrupt\u001b[0m: "
          ]
        }
      ]
    },
    {
      "cell_type": "code",
      "metadata": {
        "id": "eighmCNIftYq",
        "colab_type": "code",
        "colab": {}
      },
      "source": [
        "import os\n",
        "print(os.listdir('/home'))"
      ],
      "execution_count": null,
      "outputs": []
    }
  ]
}